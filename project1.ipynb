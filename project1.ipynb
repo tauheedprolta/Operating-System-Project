{
 "cells": [
  {
   "cell_type": "code",
   "execution_count": 4,
   "metadata": {},
   "outputs": [],
   "source": []
  },
  {
   "cell_type": "code",
   "execution_count": null,
   "metadata": {},
   "outputs": [],
   "source": [
    "# Function to calculate turnaround time and waiting time\n",
    "def calculate_time(processes, n, burst_time, waiting_time, turnaround_time, quantum):\n",
    "    remaining_time = list(burst_time)\n",
    "    current_time = 0\n",
    "    flag = 0\n",
    "\n",
    "    # Loop through all the processes until all are completed\n",
    "    while True:\n",
    "        flag = 0 #set flag=0\n",
    "        for i in range(n):\n",
    "            if remaining_time[i] > 0:\n",
    "                flag = 1\n",
    "                if remaining_time[i] <= quantum:\n",
    "                    current_time += remaining_time[i]\n",
    "                    remaining_time[i] = 0\n",
    "                else:\n",
    "                    current_time += quantum\n",
    "                    remaining_time[i] -= quantum\n",
    "        if flag == 0:\n",
    "            break\n",
    "\n",
    "n = int(input(\"Enter the number of processes: \")) #Enter number of Processes\n",
    "\n",
    "processes = []\n",
    "burst_time = []\n",
    "arrival_time = []\n",
    "priority = []\n",
    "\n",
    "# Loop through each process ask to enter value of  burst time, arrival time, and priority\n",
    "for i in range(n):\n",
    "    processes.append(i + 1)\n",
    "    burst_time.append(int(input(f\"Enter burst time for process {i+1}: \")))\n",
    "    arrival_time.append(int(input(f\"Enter arrival time for process {i+1}: \")))\n",
    "    priority.append(int(input(f\"Enter priority for process {i+1}: \")))\n",
    "quantum = int(input(\"Enter time quantum: \")) #enter the time quantum you want\n"
   ]
  }
 ],
 "metadata": {
  "kernelspec": {
   "display_name": "Python 3",
   "language": "python",
   "name": "python3"
  },
  "language_info": {
   "codemirror_mode": {
    "name": "ipython",
    "version": 3
   },
   "file_extension": ".py",
   "mimetype": "text/x-python",
   "name": "python",
   "nbconvert_exporter": "python",
   "pygments_lexer": "ipython3",
   "version": "3.10.10"
  },
  "orig_nbformat": 4
 },
 "nbformat": 4,
 "nbformat_minor": 2
}
